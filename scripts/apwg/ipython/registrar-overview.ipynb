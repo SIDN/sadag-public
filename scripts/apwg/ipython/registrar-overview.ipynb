{
 "cells": [
  {
   "cell_type": "code",
   "execution_count": 7,
   "metadata": {
    "collapsed": true
   },
   "outputs": [],
   "source": [
    "import pandas as pd\n",
    "import numpy as np\n",
    "from __future__ import division"
   ]
  },
  {
   "cell_type": "markdown",
   "metadata": {},
   "source": [
    "How many registrars do we have?  \n",
    "total in whois: 3177  \n",
    "total mapped to apwg:  900  \n"
   ]
  },
  {
   "cell_type": "markdown",
   "metadata": {},
   "source": [
    "How many domains are covered? "
   ]
  },
  {
   "cell_type": "code",
   "execution_count": 17,
   "metadata": {
    "collapsed": false
   },
   "outputs": [
    {
     "name": "stdout",
     "output_type": "stream",
     "text": [
      "total domains in whois: 279356536\n",
      "total domains in apwg: 247443\n",
      "total apwg domains in whois: 100%\n"
     ]
    }
   ],
   "source": [
    "print \"total domains in whois: 279356536\"\n",
    "print \"total domains in apwg: 247443\"\n",
    "print \"total apwg domains in whois: 100%\""
   ]
  },
  {
   "cell_type": "code",
   "execution_count": null,
   "metadata": {
    "collapsed": true
   },
   "outputs": [],
   "source": [
    "How many domains are mapped to how many registrars on average? \n",
    " Possible response would be: on average each domain had 3,1 registrar within this period, and 30% of domains had only one registrar."
   ]
  },
  {
   "cell_type": "markdown",
   "metadata": {},
   "source": [
    "How many domains are mapped to how many registrars on average?  \n",
    "on average each domain had 1.243015 registrar within this period  "
   ]
  },
  {
   "cell_type": "code",
   "execution_count": 14,
   "metadata": {
    "collapsed": false
   },
   "outputs": [
    {
     "name": "stdout",
     "output_type": "stream",
     "text": [
      "78.7794812862% of domains had only one registrar.\n"
     ]
    }
   ],
   "source": [
    "print str((220075630 / 279356536 ) * 100.0 ) + \"% of domains had only one registrar.\""
   ]
  },
  {
   "cell_type": "code",
   "execution_count": null,
   "metadata": {
    "collapsed": true
   },
   "outputs": [],
   "source": []
  }
 ],
 "metadata": {
  "anaconda-cloud": {},
  "kernelspec": {
   "display_name": "Python [conda root]",
   "language": "python",
   "name": "conda-root-py"
  },
  "language_info": {
   "codemirror_mode": {
    "name": "ipython",
    "version": 2
   },
   "file_extension": ".py",
   "mimetype": "text/x-python",
   "name": "python",
   "nbconvert_exporter": "python",
   "pygments_lexer": "ipython2",
   "version": "2.7.12"
  }
 },
 "nbformat": 4,
 "nbformat_minor": 1
}

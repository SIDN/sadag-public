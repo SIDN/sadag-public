{
 "cells": [
  {
   "cell_type": "code",
   "execution_count": 1,
   "metadata": {
    "collapsed": true
   },
   "outputs": [],
   "source": [
    "import pandas as pd"
   ]
  },
  {
   "cell_type": "code",
   "execution_count": 49,
   "metadata": {
    "collapsed": false
   },
   "outputs": [],
   "source": [
    "pdPeriods = pd.read_csv('../../data/sunrise-ga/sunrise_periods.csv', index_col=0, parse_dates=[2,3])"
   ]
  },
  {
   "cell_type": "code",
   "execution_count": 50,
   "metadata": {
    "collapsed": false
   },
   "outputs": [
    {
     "data": {
      "text/html": [
       "<div>\n",
       "<table border=\"1\" class=\"dataframe\">\n",
       "  <thead>\n",
       "    <tr style=\"text-align: right;\">\n",
       "      <th></th>\n",
       "      <th>Sunrise (Start/End Date Sunrise)</th>\n",
       "      <th>open</th>\n",
       "      <th>close</th>\n",
       "    </tr>\n",
       "    <tr>\n",
       "      <th>tld</th>\n",
       "      <th></th>\n",
       "      <th></th>\n",
       "      <th></th>\n",
       "    </tr>\n",
       "  </thead>\n",
       "  <tbody>\n",
       "    <tr>\n",
       "      <th>xn--ngbc5azd</th>\n",
       "      <td>End Date Sunrise</td>\n",
       "      <td>2013-10-31</td>\n",
       "      <td>2013-12-29</td>\n",
       "    </tr>\n",
       "    <tr>\n",
       "      <th>singles</th>\n",
       "      <td>End Date Sunrise</td>\n",
       "      <td>2013-11-26</td>\n",
       "      <td>2014-01-25</td>\n",
       "    </tr>\n",
       "    <tr>\n",
       "      <th>holdings</th>\n",
       "      <td>End Date Sunrise</td>\n",
       "      <td>2013-11-26</td>\n",
       "      <td>2014-01-25</td>\n",
       "    </tr>\n",
       "    <tr>\n",
       "      <th>guru</th>\n",
       "      <td>End Date Sunrise</td>\n",
       "      <td>2013-11-26</td>\n",
       "      <td>2014-01-25</td>\n",
       "    </tr>\n",
       "    <tr>\n",
       "      <th>clothing</th>\n",
       "      <td>End Date Sunrise</td>\n",
       "      <td>2013-11-26</td>\n",
       "      <td>2014-01-25</td>\n",
       "    </tr>\n",
       "  </tbody>\n",
       "</table>\n",
       "</div>"
      ],
      "text/plain": [
       "             Sunrise (Start/End Date Sunrise)       open      close\n",
       "tld                                                                \n",
       "xn--ngbc5azd                 End Date Sunrise 2013-10-31 2013-12-29\n",
       "singles                      End Date Sunrise 2013-11-26 2014-01-25\n",
       "holdings                     End Date Sunrise 2013-11-26 2014-01-25\n",
       "guru                         End Date Sunrise 2013-11-26 2014-01-25\n",
       "clothing                     End Date Sunrise 2013-11-26 2014-01-25"
      ]
     },
     "execution_count": 50,
     "metadata": {},
     "output_type": "execute_result"
    }
   ],
   "source": [
    "pdPeriods = pdPeriods.sort_values(by=['open','close'])\n",
    "pdPeriods.head()"
   ]
  },
  {
   "cell_type": "code",
   "execution_count": 51,
   "metadata": {
    "collapsed": false
   },
   "outputs": [
    {
     "data": {
      "text/html": [
       "<div>\n",
       "<table border=\"1\" class=\"dataframe\">\n",
       "  <thead>\n",
       "    <tr style=\"text-align: right;\">\n",
       "      <th></th>\n",
       "      <th>Sunrise (Start/End Date Sunrise)</th>\n",
       "      <th>open</th>\n",
       "      <th>close</th>\n",
       "    </tr>\n",
       "    <tr>\n",
       "      <th>tld</th>\n",
       "      <th></th>\n",
       "      <th></th>\n",
       "      <th></th>\n",
       "    </tr>\n",
       "  </thead>\n",
       "  <tbody>\n",
       "    <tr>\n",
       "      <th>amsterdam</th>\n",
       "      <td>Start Date Sunrise</td>\n",
       "      <td>2015-04-28</td>\n",
       "      <td>2015-05-28</td>\n",
       "    </tr>\n",
       "  </tbody>\n",
       "</table>\n",
       "</div>"
      ],
      "text/plain": [
       "          Sunrise (Start/End Date Sunrise)       open      close\n",
       "tld                                                             \n",
       "amsterdam               Start Date Sunrise 2015-04-28 2015-05-28"
      ]
     },
     "execution_count": 51,
     "metadata": {},
     "output_type": "execute_result"
    }
   ],
   "source": [
    "pdPeriods[pdPeriods.index == 'amsterdam']"
   ]
  },
  {
   "cell_type": "code",
   "execution_count": null,
   "metadata": {
    "collapsed": true
   },
   "outputs": [],
   "source": []
  }
 ],
 "metadata": {
  "anaconda-cloud": {},
  "kernelspec": {
   "display_name": "Python [default]",
   "language": "python",
   "name": "python2"
  },
  "language_info": {
   "codemirror_mode": {
    "name": "ipython",
    "version": 2
   },
   "file_extension": ".py",
   "mimetype": "text/x-python",
   "name": "python",
   "nbconvert_exporter": "python",
   "pygments_lexer": "ipython2",
   "version": "2.7.12"
  }
 },
 "nbformat": 4,
 "nbformat_minor": 1
}

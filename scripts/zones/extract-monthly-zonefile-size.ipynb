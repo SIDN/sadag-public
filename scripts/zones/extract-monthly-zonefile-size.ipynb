{
 "cells": [
  {
   "cell_type": "code",
   "execution_count": 73,
   "metadata": {
    "collapsed": true
   },
   "outputs": [],
   "source": [
    "import pandas as pd\n",
    "import numpy as np\n",
    "%matplotlib inline\n",
    "import matplotlib.pyplot as plt"
   ]
  },
  {
   "cell_type": "code",
   "execution_count": 54,
   "metadata": {
    "collapsed": false
   },
   "outputs": [],
   "source": [
    "df2014 = pd.read_csv('../../data/zones/counts-records.2014.csv', parse_dates=[0], header=None, index_col=0,  names= ['date', 'tld', 'total', 'dnssec'])\n",
    "df2015 = pd.read_csv('../../data/zones/counts-records.2015.csv', parse_dates=[0], header=None, index_col=0,  names= ['date', 'tld', 'total', 'dnssec'])\n",
    "df2016 = pd.read_csv('../../data/zones/counts-records.2016.csv', parse_dates=[0], header=None, index_col=0,  names= ['date', 'tld', 'total', 'dnssec'])"
   ]
  },
  {
   "cell_type": "code",
   "execution_count": 55,
   "metadata": {
    "collapsed": true
   },
   "outputs": [],
   "source": [
    "dfAll = pd.concat([df2014,df2015,df2016])"
   ]
  },
  {
   "cell_type": "code",
   "execution_count": 56,
   "metadata": {
    "collapsed": false
   },
   "outputs": [
    {
     "data": {
      "text/html": [
       "<div>\n",
       "<table border=\"1\" class=\"dataframe\">\n",
       "  <thead>\n",
       "    <tr style=\"text-align: right;\">\n",
       "      <th></th>\n",
       "      <th>tld</th>\n",
       "      <th>total</th>\n",
       "      <th>dnssec</th>\n",
       "    </tr>\n",
       "    <tr>\n",
       "      <th>date</th>\n",
       "      <th></th>\n",
       "      <th></th>\n",
       "      <th></th>\n",
       "    </tr>\n",
       "  </thead>\n",
       "  <tbody>\n",
       "    <tr>\n",
       "      <th>2014-01-01</th>\n",
       "      <td>academy</td>\n",
       "      <td>6</td>\n",
       "      <td>3</td>\n",
       "    </tr>\n",
       "    <tr>\n",
       "      <th>2014-01-01</th>\n",
       "      <td>aero</td>\n",
       "      <td>33246</td>\n",
       "      <td>0</td>\n",
       "    </tr>\n",
       "    <tr>\n",
       "      <th>2014-01-01</th>\n",
       "      <td>arpa</td>\n",
       "      <td>2</td>\n",
       "      <td>2</td>\n",
       "    </tr>\n",
       "    <tr>\n",
       "      <th>2014-01-01</th>\n",
       "      <td>asia</td>\n",
       "      <td>389526</td>\n",
       "      <td>0</td>\n",
       "    </tr>\n",
       "    <tr>\n",
       "      <th>2014-01-01</th>\n",
       "      <td>bike</td>\n",
       "      <td>15</td>\n",
       "      <td>5</td>\n",
       "    </tr>\n",
       "  </tbody>\n",
       "</table>\n",
       "</div>"
      ],
      "text/plain": [
       "                tld   total  dnssec\n",
       "date                               \n",
       "2014-01-01  academy       6       3\n",
       "2014-01-01     aero   33246       0\n",
       "2014-01-01     arpa       2       2\n",
       "2014-01-01     asia  389526       0\n",
       "2014-01-01     bike      15       5"
      ]
     },
     "execution_count": 56,
     "metadata": {},
     "output_type": "execute_result"
    }
   ],
   "source": [
    "dfAll.head()"
   ]
  },
  {
   "cell_type": "code",
   "execution_count": 57,
   "metadata": {
    "collapsed": false
   },
   "outputs": [],
   "source": [
    "dfMonthlyMax = dfAll.groupby(['tld',pd.TimeGrouper('M')]).total.max().reset_index(name='max')"
   ]
  },
  {
   "cell_type": "code",
   "execution_count": 58,
   "metadata": {
    "collapsed": false
   },
   "outputs": [],
   "source": [
    "dfMonthlyMaxSortedByTldAndDate = dfMonthlyMax.sort_values(by=['tld','date'], ascending=True)"
   ]
  },
  {
   "cell_type": "code",
   "execution_count": 59,
   "metadata": {
    "collapsed": false
   },
   "outputs": [
    {
     "data": {
      "text/html": [
       "<div>\n",
       "<table border=\"1\" class=\"dataframe\">\n",
       "  <thead>\n",
       "    <tr style=\"text-align: right;\">\n",
       "      <th></th>\n",
       "      <th>tld</th>\n",
       "      <th>date</th>\n",
       "      <th>max</th>\n",
       "    </tr>\n",
       "  </thead>\n",
       "  <tbody>\n",
       "    <tr>\n",
       "      <th>0</th>\n",
       "      <td>3pxu8k</td>\n",
       "      <td>2015-07-31</td>\n",
       "      <td>2</td>\n",
       "    </tr>\n",
       "    <tr>\n",
       "      <th>1</th>\n",
       "      <td>aaa</td>\n",
       "      <td>2015-08-31</td>\n",
       "      <td>1</td>\n",
       "    </tr>\n",
       "    <tr>\n",
       "      <th>2</th>\n",
       "      <td>aaa</td>\n",
       "      <td>2015-09-30</td>\n",
       "      <td>1</td>\n",
       "    </tr>\n",
       "    <tr>\n",
       "      <th>3</th>\n",
       "      <td>aaa</td>\n",
       "      <td>2015-10-31</td>\n",
       "      <td>1</td>\n",
       "    </tr>\n",
       "    <tr>\n",
       "      <th>4</th>\n",
       "      <td>aaa</td>\n",
       "      <td>2015-11-30</td>\n",
       "      <td>1</td>\n",
       "    </tr>\n",
       "  </tbody>\n",
       "</table>\n",
       "</div>"
      ],
      "text/plain": [
       "      tld       date  max\n",
       "0  3pxu8k 2015-07-31    2\n",
       "1     aaa 2015-08-31    1\n",
       "2     aaa 2015-09-30    1\n",
       "3     aaa 2015-10-31    1\n",
       "4     aaa 2015-11-30    1"
      ]
     },
     "execution_count": 59,
     "metadata": {},
     "output_type": "execute_result"
    }
   ],
   "source": [
    "dfMonthlyMaxSortedByTldAndDate.head()"
   ]
  },
  {
   "cell_type": "code",
   "execution_count": 60,
   "metadata": {
    "collapsed": true
   },
   "outputs": [],
   "source": [
    "dfMonthlyMaxSortedByTldAndDate.to_csv('../../data/zones/tldSizePerMonth.csv', index=False)"
   ]
  },
  {
   "cell_type": "code",
   "execution_count": 76,
   "metadata": {
    "collapsed": false
   },
   "outputs": [
    {
     "data": {
      "text/plain": [
       "<matplotlib.axes._subplots.AxesSubplot at 0x1199d8a50>"
      ]
     },
     "execution_count": 76,
     "metadata": {},
     "output_type": "execute_result"
    },
    {
     "data": {
      "image/png": "[encoded data removed]",
      "text/plain": [
       "<matplotlib.figure.Figure at 0x1199ed090>"
      ]
     },
     "metadata": {},
     "output_type": "display_data"
    }
   ],
   "source": [
    "dfMonthlyMaxSortedByTldAndDate[dfMonthlyMaxSortedByTldAndDate.tld == 'amsterdam'].plot(y='max', x='date')"
   ]
  },
  {
   "cell_type": "code",
   "execution_count": 75,
   "metadata": {
    "collapsed": false
   },
   "outputs": [
    {
     "data": {
      "text/html": [
       "<div>\n",
       "<table border=\"1\" class=\"dataframe\">\n",
       "  <thead>\n",
       "    <tr style=\"text-align: right;\">\n",
       "      <th></th>\n",
       "      <th>tld</th>\n",
       "      <th>date</th>\n",
       "      <th>max</th>\n",
       "    </tr>\n",
       "  </thead>\n",
       "  <tbody>\n",
       "    <tr>\n",
       "      <th>759</th>\n",
       "      <td>amsterdam</td>\n",
       "      <td>2014-12-31</td>\n",
       "      <td>1</td>\n",
       "    </tr>\n",
       "    <tr>\n",
       "      <th>760</th>\n",
       "      <td>amsterdam</td>\n",
       "      <td>2015-01-31</td>\n",
       "      <td>1</td>\n",
       "    </tr>\n",
       "    <tr>\n",
       "      <th>761</th>\n",
       "      <td>amsterdam</td>\n",
       "      <td>2015-02-28</td>\n",
       "      <td>1</td>\n",
       "    </tr>\n",
       "    <tr>\n",
       "      <th>762</th>\n",
       "      <td>amsterdam</td>\n",
       "      <td>2015-03-31</td>\n",
       "      <td>11</td>\n",
       "    </tr>\n",
       "    <tr>\n",
       "      <th>763</th>\n",
       "      <td>amsterdam</td>\n",
       "      <td>2015-04-30</td>\n",
       "      <td>55</td>\n",
       "    </tr>\n",
       "    <tr>\n",
       "      <th>764</th>\n",
       "      <td>amsterdam</td>\n",
       "      <td>2015-05-31</td>\n",
       "      <td>6159</td>\n",
       "    </tr>\n",
       "    <tr>\n",
       "      <th>765</th>\n",
       "      <td>amsterdam</td>\n",
       "      <td>2015-06-30</td>\n",
       "      <td>5802</td>\n",
       "    </tr>\n",
       "    <tr>\n",
       "      <th>766</th>\n",
       "      <td>amsterdam</td>\n",
       "      <td>2015-07-31</td>\n",
       "      <td>5803</td>\n",
       "    </tr>\n",
       "    <tr>\n",
       "      <th>767</th>\n",
       "      <td>amsterdam</td>\n",
       "      <td>2015-08-31</td>\n",
       "      <td>11201</td>\n",
       "    </tr>\n",
       "    <tr>\n",
       "      <th>768</th>\n",
       "      <td>amsterdam</td>\n",
       "      <td>2015-09-30</td>\n",
       "      <td>20000</td>\n",
       "    </tr>\n",
       "    <tr>\n",
       "      <th>769</th>\n",
       "      <td>amsterdam</td>\n",
       "      <td>2015-10-31</td>\n",
       "      <td>21903</td>\n",
       "    </tr>\n",
       "    <tr>\n",
       "      <th>770</th>\n",
       "      <td>amsterdam</td>\n",
       "      <td>2015-11-30</td>\n",
       "      <td>22665</td>\n",
       "    </tr>\n",
       "    <tr>\n",
       "      <th>771</th>\n",
       "      <td>amsterdam</td>\n",
       "      <td>2015-12-31</td>\n",
       "      <td>23142</td>\n",
       "    </tr>\n",
       "    <tr>\n",
       "      <th>772</th>\n",
       "      <td>amsterdam</td>\n",
       "      <td>2016-01-31</td>\n",
       "      <td>23674</td>\n",
       "    </tr>\n",
       "    <tr>\n",
       "      <th>773</th>\n",
       "      <td>amsterdam</td>\n",
       "      <td>2016-02-29</td>\n",
       "      <td>24078</td>\n",
       "    </tr>\n",
       "    <tr>\n",
       "      <th>774</th>\n",
       "      <td>amsterdam</td>\n",
       "      <td>2016-03-31</td>\n",
       "      <td>24489</td>\n",
       "    </tr>\n",
       "    <tr>\n",
       "      <th>775</th>\n",
       "      <td>amsterdam</td>\n",
       "      <td>2016-04-30</td>\n",
       "      <td>24852</td>\n",
       "    </tr>\n",
       "    <tr>\n",
       "      <th>776</th>\n",
       "      <td>amsterdam</td>\n",
       "      <td>2016-05-31</td>\n",
       "      <td>25194</td>\n",
       "    </tr>\n",
       "    <tr>\n",
       "      <th>777</th>\n",
       "      <td>amsterdam</td>\n",
       "      <td>2016-06-30</td>\n",
       "      <td>25526</td>\n",
       "    </tr>\n",
       "    <tr>\n",
       "      <th>778</th>\n",
       "      <td>amsterdam</td>\n",
       "      <td>2016-07-31</td>\n",
       "      <td>25797</td>\n",
       "    </tr>\n",
       "    <tr>\n",
       "      <th>779</th>\n",
       "      <td>amsterdam</td>\n",
       "      <td>2016-08-31</td>\n",
       "      <td>25910</td>\n",
       "    </tr>\n",
       "    <tr>\n",
       "      <th>780</th>\n",
       "      <td>amsterdam</td>\n",
       "      <td>2016-09-30</td>\n",
       "      <td>25351</td>\n",
       "    </tr>\n",
       "    <tr>\n",
       "      <th>781</th>\n",
       "      <td>amsterdam</td>\n",
       "      <td>2016-10-31</td>\n",
       "      <td>24441</td>\n",
       "    </tr>\n",
       "    <tr>\n",
       "      <th>782</th>\n",
       "      <td>amsterdam</td>\n",
       "      <td>2016-11-30</td>\n",
       "      <td>24516</td>\n",
       "    </tr>\n",
       "    <tr>\n",
       "      <th>783</th>\n",
       "      <td>amsterdam</td>\n",
       "      <td>2016-12-31</td>\n",
       "      <td>24597</td>\n",
       "    </tr>\n",
       "  </tbody>\n",
       "</table>\n",
       "</div>"
      ],
      "text/plain": [
       "           tld       date    max\n",
       "759  amsterdam 2014-12-31      1\n",
       "760  amsterdam 2015-01-31      1\n",
       "761  amsterdam 2015-02-28      1\n",
       "762  amsterdam 2015-03-31     11\n",
       "763  amsterdam 2015-04-30     55\n",
       "764  amsterdam 2015-05-31   6159\n",
       "765  amsterdam 2015-06-30   5802\n",
       "766  amsterdam 2015-07-31   5803\n",
       "767  amsterdam 2015-08-31  11201\n",
       "768  amsterdam 2015-09-30  20000\n",
       "769  amsterdam 2015-10-31  21903\n",
       "770  amsterdam 2015-11-30  22665\n",
       "771  amsterdam 2015-12-31  23142\n",
       "772  amsterdam 2016-01-31  23674\n",
       "773  amsterdam 2016-02-29  24078\n",
       "774  amsterdam 2016-03-31  24489\n",
       "775  amsterdam 2016-04-30  24852\n",
       "776  amsterdam 2016-05-31  25194\n",
       "777  amsterdam 2016-06-30  25526\n",
       "778  amsterdam 2016-07-31  25797\n",
       "779  amsterdam 2016-08-31  25910\n",
       "780  amsterdam 2016-09-30  25351\n",
       "781  amsterdam 2016-10-31  24441\n",
       "782  amsterdam 2016-11-30  24516\n",
       "783  amsterdam 2016-12-31  24597"
      ]
     },
     "execution_count": 75,
     "metadata": {},
     "output_type": "execute_result"
    }
   ],
   "source": [
    "dfMonthlyMaxSortedByTldAndDate[dfMonthlyMaxSortedByTldAndDate['tld'] == 'amsterdam']"
   ]
  },
  {
   "cell_type": "code",
   "execution_count": null,
   "metadata": {
    "collapsed": true
   },
   "outputs": [],
   "source": []
  }
 ],
 "metadata": {
  "anaconda-cloud": {},
  "kernelspec": {
   "display_name": "Python [default]",
   "language": "python",
   "name": "python2"
  },
  "language_info": {
   "codemirror_mode": {
    "name": "ipython",
    "version": 2
   },
   "file_extension": ".py",
   "mimetype": "text/x-python",
   "name": "python",
   "nbconvert_exporter": "python",
   "pygments_lexer": "ipython2",
   "version": "2.7.12"
  }
 },
 "nbformat": 4,
 "nbformat_minor": 1
}
